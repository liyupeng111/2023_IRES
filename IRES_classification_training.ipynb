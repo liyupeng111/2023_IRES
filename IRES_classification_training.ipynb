{
 "cells": [
  {
   "cell_type": "code",
   "execution_count": 5,
   "id": "f5416532-3e35-47ca-8621-958f89f424e8",
   "metadata": {},
   "outputs": [
    {
     "name": "stderr",
     "output_type": "stream",
     "text": [
      "2023-03-06 15:28:06.246916: I tensorflow/core/platform/cpu_feature_guard.cc:193] This TensorFlow binary is optimized with oneAPI Deep Neural Network Library (oneDNN) to use the following CPU instructions in performance-critical operations:  AVX2 AVX512F AVX512_VNNI FMA\n",
      "To enable them in other operations, rebuild TensorFlow with the appropriate compiler flags.\n",
      "2023-03-06 15:28:06.557309: I tensorflow/core/util/util.cc:169] oneDNN custom operations are on. You may see slightly different numerical results due to floating-point round-off errors from different computation orders. To turn them off, set the environment variable `TF_ENABLE_ONEDNN_OPTS=0`.\n",
      "2023-03-06 15:28:06.652665: E tensorflow/stream_executor/cuda/cuda_blas.cc:2981] Unable to register cuBLAS factory: Attempting to register factory for plugin cuBLAS when one has already been registered\n",
      "2023-03-06 15:28:07.600043: W tensorflow/stream_executor/platform/default/dso_loader.cc:64] Could not load dynamic library 'libnvinfer.so.7'; dlerror: libnvinfer.so.7: cannot open shared object file: No such file or directory\n",
      "2023-03-06 15:28:07.600217: W tensorflow/stream_executor/platform/default/dso_loader.cc:64] Could not load dynamic library 'libnvinfer_plugin.so.7'; dlerror: libnvinfer_plugin.so.7: cannot open shared object file: No such file or directory\n",
      "2023-03-06 15:28:07.600233: W tensorflow/compiler/tf2tensorrt/utils/py_utils.cc:38] TF-TRT Warning: Cannot dlopen some TensorRT libraries. If you would like to use Nvidia GPU with TensorRT, please make sure the missing libraries mentioned above are installed properly.\n"
     ]
    }
   ],
   "source": [
    "# generic functions\n",
    "import os\n",
    "import sys\n",
    "import random\n",
    "import json\n",
    "import pandas as pd\n",
    "import numpy as np\n",
    "import scipy.stats as stats\n",
    "import sklearn\n",
    "from sklearn import preprocessing\n",
    "from sklearn.model_selection import GroupShuffleSplit\n",
    "from inspect import getmembers, isfunction\n",
    "\n",
    "# tensorflow + keras functions\n",
    "# tensorflow>=2.10.0\n",
    "import tensorflow as tf\n",
    "from tensorflow import keras, convert_to_tensor, string\n",
    "from tensorflow import math, matmul, reshape, shape, transpose, cast, float32\n",
    "from tensorflow import linalg, ones, maximum, newaxis\n",
    "from tensorflow.keras import Model, regularizers\n",
    "from tensorflow.keras.layers import Dense, Layer, Embedding, MaxPooling1D, LSTM\n",
    "from tensorflow.keras.layers import LayerNormalization, ReLU, Dropout\n",
    "from tensorflow.keras.layers import Activation, Flatten, Conv1D, BatchNormalization\n",
    "from tensorflow.keras.preprocessing import sequence\n",
    "from tensorflow.keras.optimizers import RMSprop\n",
    "from tensorflow.keras.optimizers.schedules import LearningRateSchedule\n",
    "from tensorflow.keras.models import Sequential\n",
    "from tensorflow.keras.callbacks import EarlyStopping\n",
    "from tensorflow.keras.utils import Sequence\n",
    "\n",
    "from keras import backend as K\n",
    "from keras.backend import softmax\n",
    "\n",
    "# transformers functions\n",
    "from tokenizers.models import BPE\n",
    "from tokenizers.pre_tokenizers import ByteLevel\n",
    "from tokenizers.trainers import BpeTrainer\n",
    "from tokenizers import decoders, models, normalizers, pre_tokenizers, processors, trainers, Tokenizer\n",
    "from transformers import BertConfig, TFBertModel\n",
    "\n",
    "# graph neural network functions\n",
    "from spektral.layers import GCNConv, ChebConv, GlobalAvgPool, GATConv, GeneralConv, EdgeConv, ARMAConv\n",
    "from spektral.utils.convolution import gcn_filter, chebyshev_filter\n",
    "\n",
    "%load_ext autoreload\n",
    "%autoreload 2"
   ]
  },
  {
   "cell_type": "code",
   "execution_count": 6,
   "id": "70371612-52b7-4d18-95b6-d9b9dacf4816",
   "metadata": {},
   "outputs": [],
   "source": [
    "# basic random seed\n",
    "DEFAULT_RANDOM_SEED = 2022\n",
    "\n",
    "def seedBasic(seed=DEFAULT_RANDOM_SEED):\n",
    "    random.seed(seed)\n",
    "    os.environ['PYTHONHASHSEED'] = str(seed)\n",
    "    np.random.seed(seed)\n",
    "    \n",
    "# tensorflow random seed \n",
    "def seedTF(seed=DEFAULT_RANDOM_SEED):\n",
    "    tf.random.set_seed(seed)\n",
    "    \n",
    "# torch random seed\n",
    "# import torch\n",
    "# def seedTorch(seed=DEFAULT_RANDOM_SEED):\n",
    "#     torch.manual_seed(seed)\n",
    "#     torch.cuda.manual_seed(seed)\n",
    "#     torch.backends.cudnn.deterministic = True\n",
    "#     torch.backends.cudnn.benchmark = False\n",
    "      \n",
    "# basic + tensorflow + torch \n",
    "def seedEverything(seed=DEFAULT_RANDOM_SEED):\n",
    "    seedBasic(seed)\n",
    "    seedTF(seed)\n",
    "    # seedTorch(seed)\n",
    "\n",
    "seedEverything()"
   ]
  },
  {
   "cell_type": "code",
   "execution_count": 11,
   "id": "1962952e-ef55-4fe9-8d40-8a3700bd7a3b",
   "metadata": {},
   "outputs": [
    {
     "name": "stdout",
     "output_type": "stream",
     "text": [
      "\n",
      "\n",
      "\n"
     ]
    }
   ],
   "source": [
    "tokenizer = Tokenizer(BPE(unk_token=\"[UNK]\"))\n",
    "trainer = BpeTrainer(vocab_size=10, special_tokens=[\"[PAD]\", \"[UNK]\", \"[CLS]\", \"[SEP]\", \"[MASK]\"])\n",
    "tokenizer.pre_tokenizer = ByteLevel(add_prefix_space = False)\n",
    "files = [f\"token.txt\" ]\n",
    "tokenizer.train(files, trainer)\n",
    "tokenizer.enable_padding(direction = 'right', pad_id = 0, pad_token = '[PAD]', length = 600)\n",
    "tokenizer.post_processor = processors.ByteLevel(trim_offsets=False)\n",
    "tokenizer.decoder = decoders.ByteLevel()\n",
    "tokenizer.save(\"tokenizer.json\")"
   ]
  },
  {
   "cell_type": "code",
   "execution_count": 7,
   "id": "7021feed-1458-4619-be25-2ac6c4199b95",
   "metadata": {},
   "outputs": [],
   "source": [
    "import models\n",
    "import functions\n",
    "model_list = getmembers(models, isfunction)"
   ]
  },
  {
   "cell_type": "code",
   "execution_count": 8,
   "id": "8a1fac82-9954-4365-89e9-968662c0d973",
   "metadata": {},
   "outputs": [],
   "source": [
    "import functions"
   ]
  },
  {
   "cell_type": "code",
   "execution_count": 9,
   "id": "197909a5-99d4-4d9c-b56b-961eb963d219",
   "metadata": {},
   "outputs": [
    {
     "data": {
      "text/plain": [
       "[('cast', <function tensorflow.python.ops.math_ops.cast(x, dtype, name=None)>),\n",
       " ('chebyshev_filter',\n",
       "  <function spektral.utils.convolution.chebyshev_filter(A, k, symmetric=True)>),\n",
       " ('convert_to_tensor',\n",
       "  <function tensorflow.python.framework.ops.convert_to_tensor_v2_with_dispatch(value, dtype=None, dtype_hint=None, name=None)>),\n",
       " ('encode_padding',\n",
       "  <function functions.encode_padding(df, col='utr', seq_len=50, padding='5end', channel=1)>),\n",
       " ('gcn_filter',\n",
       "  <function spektral.utils.convolution.gcn_filter(A, symmetric=True)>),\n",
       " ('matmul',\n",
       "  <function tensorflow.python.ops.math_ops.matmul(a, b, transpose_a=False, transpose_b=False, adjoint_a=False, adjoint_b=False, a_is_sparse=False, b_is_sparse=False, output_type=None, name=None)>),\n",
       " ('maximum',\n",
       "  <function tensorflow.python.ops.gen_math_ops.maximum(x, y, name=None)>),\n",
       " ('model1', <function models.model1(seq_length=600, dropout_rate=0.1)>),\n",
       " ('model10', <function models.model10(seq_length=600, dropout_rate=0.1)>),\n",
       " ('model11', <function models.model11(seq_length=600, dropout_rate=0.1)>),\n",
       " ('model12', <function models.model12(seq_length=600, dropout_rate=0.1)>),\n",
       " ('model13', <function models.model13(seq_length=600, dropout_rate=0.1)>),\n",
       " ('model14', <function models.model14(seq_length=600, dropout_rate=0.1)>),\n",
       " ('model15', <function models.model15(seq_length=600, dropout_rate=0.1)>),\n",
       " ('model2', <function models.model2(seq_length=600, dropout_rate=0.1)>),\n",
       " ('model3', <function models.model3(seq_length=600, dropout_rate=0.1)>),\n",
       " ('model4', <function models.model4(seq_length=600, dropout_rate=0.1)>),\n",
       " ('model5', <function models.model5(seq_length=600, dropout_rate=0.1)>),\n",
       " ('model6', <function models.model6(seq_length=600, dropout_rate=0.1)>),\n",
       " ('model7', <function models.model7(seq_length=600, dropout_rate=0.1)>),\n",
       " ('model8', <function models.model8(seq_length=600, dropout_rate=0.1)>),\n",
       " ('model9', <function models.model9(seq_length=600, dropout_rate=0.1)>),\n",
       " ('model_embed',\n",
       "  <function models.model_embed(seq_length=600, dropout_rate=0.1, d_model=16, enc_vocab_size=5)>),\n",
       " ('model_embed_bert',\n",
       "  <function models.model_embed_bert(seq_length=600, dropout_rate=0.1)>),\n",
       " ('model_embed_bert_conv',\n",
       "  <function models.model_embed_bert_conv(seq_length=600, dropout_rate=0.1, d_model=16)>),\n",
       " ('model_embed_conv',\n",
       "  <function models.model_embed_conv(seq_length=600, dropout_rate=0.1, d_model=16, enc_vocab_size=5)>),\n",
       " ('model_embed_graph_attention',\n",
       "  <function models.model_embed_graph_attention(seq_length=600, dropout_rate=0.1, d_model=16, enc_vocab_size=5)>),\n",
       " ('model_embed_graph_conv',\n",
       "  <function models.model_embed_graph_conv(seq_length=600, dropout_rate=0.1, d_model=16, enc_vocab_size=5)>),\n",
       " ('model_onehot_conv',\n",
       "  <function models.model_onehot_conv(seq_length=600, dropout_rate=0.1)>),\n",
       " ('model_onehot_graph_attention',\n",
       "  <function models.model_onehot_graph_attention(seq_length=600, dropout_rate=0.1)>),\n",
       " ('model_onehot_graph_conv',\n",
       "  <function models.model_onehot_graph_conv(seq_length=600, dropout_rate=0.1)>),\n",
       " ('model_onehot_structure_conv',\n",
       "  <function models.model_onehot_structure_conv(seq_length=600, dropout_rate=0.1)>),\n",
       " ('one_hot_encode_padding',\n",
       "  <function functions.one_hot_encode_padding(df, col='utr', seq_len=50, padding='5end', channel=4)>),\n",
       " ('ones',\n",
       "  <function tensorflow.python.ops.array_ops.ones(shape, dtype=tf.float32, name=None)>),\n",
       " ('reshape',\n",
       "  <function tensorflow.python.ops.array_ops.reshape(tensor, shape, name=None)>),\n",
       " ('shape',\n",
       "  <function tensorflow.python.ops.array_ops.shape_v2(input, out_type=tf.int32, name=None)>),\n",
       " ('softmax', <function keras.backend.softmax(x, axis=-1)>),\n",
       " ('transpose',\n",
       "  <function tensorflow.python.ops.array_ops.transpose_v2(a, perm=None, conjugate=False, name='transpose')>)]"
      ]
     },
     "execution_count": 9,
     "metadata": {},
     "output_type": "execute_result"
    }
   ],
   "source": [
    "model_list"
   ]
  },
  {
   "cell_type": "code",
   "execution_count": 17,
   "id": "2a000f1d-1d51-4bba-bc81-e3a2ca39ef70",
   "metadata": {},
   "outputs": [
    {
     "name": "stdout",
     "output_type": "stream",
     "text": [
      "model_onehot_structure_conv\n",
      "fold1\n",
      "Model: \"model\"\n",
      "__________________________________________________________________________________________________\n",
      " Layer (type)                   Output Shape         Param #     Connected to                     \n",
      "==================================================================================================\n",
      " input_1 (InputLayer)           [(None, 600, 4)]     0           []                               \n",
      "                                                                                                  \n",
      " input_2 (InputLayer)           [(None, 600, 3)]     0           []                               \n",
      "                                                                                                  \n",
      " concatenate (Concatenate)      (None, 600, 7)       0           ['input_1[0][0]',                \n",
      "                                                                  'input_2[0][0]']                \n",
      "                                                                                                  \n",
      " conv1d (Conv1D)                (None, 600, 128)     7296        ['concatenate[0][0]']            \n",
      "                                                                                                  \n",
      " max_pooling1d (MaxPooling1D)   (None, 300, 128)     0           ['conv1d[0][0]']                 \n",
      "                                                                                                  \n",
      " dropout (Dropout)              (None, 300, 128)     0           ['max_pooling1d[0][0]']          \n",
      "                                                                                                  \n",
      " conv1d_1 (Conv1D)              (None, 300, 128)     131200      ['dropout[0][0]']                \n",
      "                                                                                                  \n",
      " max_pooling1d_1 (MaxPooling1D)  (None, 150, 128)    0           ['conv1d_1[0][0]']               \n",
      "                                                                                                  \n",
      " dropout_1 (Dropout)            (None, 150, 128)     0           ['max_pooling1d_1[0][0]']        \n",
      "                                                                                                  \n",
      " conv1d_2 (Conv1D)              (None, 150, 128)     131200      ['dropout_1[0][0]']              \n",
      "                                                                                                  \n",
      " max_pooling1d_2 (MaxPooling1D)  (None, 75, 128)     0           ['conv1d_2[0][0]']               \n",
      "                                                                                                  \n",
      " dropout_2 (Dropout)            (None, 75, 128)      0           ['max_pooling1d_2[0][0]']        \n",
      "                                                                                                  \n",
      " conv1d_3 (Conv1D)              (None, 75, 128)      131200      ['dropout_2[0][0]']              \n",
      "                                                                                                  \n",
      " max_pooling1d_3 (MaxPooling1D)  (None, 37, 128)     0           ['conv1d_3[0][0]']               \n",
      "                                                                                                  \n",
      " dropout_3 (Dropout)            (None, 37, 128)      0           ['max_pooling1d_3[0][0]']        \n",
      "                                                                                                  \n",
      " flatten (Flatten)              (None, 4736)         0           ['dropout_3[0][0]']              \n",
      "                                                                                                  \n",
      " dense (Dense)                  (None, 32)           151584      ['flatten[0][0]']                \n",
      "                                                                                                  \n",
      " activation (Activation)        (None, 32)           0           ['dense[0][0]']                  \n",
      "                                                                                                  \n",
      " dropout_4 (Dropout)            (None, 32)           0           ['activation[0][0]']             \n",
      "                                                                                                  \n",
      " dense_1 (Dense)                (None, 1)            33          ['dropout_4[0][0]']              \n",
      "                                                                                                  \n",
      " activation_1 (Activation)      (None, 1)            0           ['dense_1[0][0]']                \n",
      "                                                                                                  \n",
      "==================================================================================================\n",
      "Total params: 552,513\n",
      "Trainable params: 552,513\n",
      "Non-trainable params: 0\n",
      "__________________________________________________________________________________________________\n",
      "None\n",
      "Epoch 1/20\n"
     ]
    },
    {
     "name": "stderr",
     "output_type": "stream",
     "text": [
      "2023-03-06 11:13:05.683409: I tensorflow/stream_executor/cuda/cuda_dnn.cc:384] Loaded cuDNN version 8700\n",
      "2023-03-06 11:13:07.106481: I tensorflow/core/platform/default/subprocess.cc:304] Start cannot spawn child process: No such file or directory\n"
     ]
    },
    {
     "name": "stdout",
     "output_type": "stream",
     "text": [
      "3997/3997 [==============================] - 144s 35ms/step - loss: 0.0643 - tp: 82789.0000 - fp: 494.0000 - tn: 158007.0000 - fn: 14518.0000 - accuracy: 0.9413 - precision: 0.9941 - recall: 0.8508 - auc: 0.9944 - prc: 0.9918 - val_loss: 0.0142 - val_tp: 21.0000 - val_fp: 59.0000 - val_tn: 7493.0000 - val_fn: 43.0000 - val_accuracy: 0.9866 - val_precision: 0.2625 - val_recall: 0.3281 - val_auc: 0.8600 - val_prc: 0.3714\n",
      "Epoch 2/20\n",
      "3997/3997 [==============================] - 140s 35ms/step - loss: 0.0068 - tp: 96149.0000 - fp: 91.0000 - tn: 158411.0000 - fn: 1157.0000 - accuracy: 0.9951 - precision: 0.9991 - recall: 0.9881 - auc: 1.0000 - prc: 0.9999 - val_loss: 0.0163 - val_tp: 22.0000 - val_fp: 34.0000 - val_tn: 7518.0000 - val_fn: 42.0000 - val_accuracy: 0.9900 - val_precision: 0.3929 - val_recall: 0.3438 - val_auc: 0.8518 - val_prc: 0.3849\n",
      "Epoch 3/20\n",
      "3997/3997 [==============================] - 140s 35ms/step - loss: 0.0030 - tp: 96824.0000 - fp: 40.0000 - tn: 158459.0000 - fn: 485.0000 - accuracy: 0.9979 - precision: 0.9996 - recall: 0.9950 - auc: 1.0000 - prc: 1.0000 - val_loss: 0.0157 - val_tp: 21.0000 - val_fp: 10.0000 - val_tn: 7542.0000 - val_fn: 43.0000 - val_accuracy: 0.9930 - val_precision: 0.6774 - val_recall: 0.3281 - val_auc: 0.8461 - val_prc: 0.4414\n",
      "Epoch 4/20\n",
      "3997/3997 [==============================] - 139s 35ms/step - loss: 0.0012 - tp: 97126.0000 - fp: 16.0000 - tn: 158481.0000 - fn: 185.0000 - accuracy: 0.9992 - precision: 0.9998 - recall: 0.9981 - auc: 1.0000 - prc: 1.0000 - val_loss: 0.0175 - val_tp: 22.0000 - val_fp: 19.0000 - val_tn: 7533.0000 - val_fn: 42.0000 - val_accuracy: 0.9920 - val_precision: 0.5366 - val_recall: 0.3438 - val_auc: 0.8880 - val_prc: 0.4475\n",
      "Epoch 5/20\n",
      "3997/3997 [==============================] - 140s 35ms/step - loss: 0.0018 - tp: 97048.0000 - fp: 25.0000 - tn: 158476.0000 - fn: 259.0000 - accuracy: 0.9989 - precision: 0.9997 - recall: 0.9973 - auc: 1.0000 - prc: 1.0000 - val_loss: 0.0143 - val_tp: 21.0000 - val_fp: 13.0000 - val_tn: 7539.0000 - val_fn: 43.0000 - val_accuracy: 0.9926 - val_precision: 0.6176 - val_recall: 0.3281 - val_auc: 0.9058 - val_prc: 0.4704\n",
      "Epoch 6/20\n",
      "3997/3997 [==============================] - 140s 35ms/step - loss: 9.1591e-04 - tp: 97178.0000 - fp: 12.0000 - tn: 158493.0000 - fn: 125.0000 - accuracy: 0.9995 - precision: 0.9999 - recall: 0.9987 - auc: 1.0000 - prc: 1.0000 - val_loss: 0.0202 - val_tp: 23.0000 - val_fp: 4.0000 - val_tn: 7548.0000 - val_fn: 41.0000 - val_accuracy: 0.9941 - val_precision: 0.8519 - val_recall: 0.3594 - val_auc: 0.8357 - val_prc: 0.5251\n",
      "Epoch 7/20\n",
      "3997/3997 [==============================] - 138s 35ms/step - loss: 6.8403e-04 - tp: 97211.0000 - fp: 11.0000 - tn: 158491.0000 - fn: 95.0000 - accuracy: 0.9996 - precision: 0.9999 - recall: 0.9990 - auc: 1.0000 - prc: 1.0000 - val_loss: 0.0199 - val_tp: 20.0000 - val_fp: 6.0000 - val_tn: 7546.0000 - val_fn: 44.0000 - val_accuracy: 0.9934 - val_precision: 0.7692 - val_recall: 0.3125 - val_auc: 0.8262 - val_prc: 0.4107\n",
      "Epoch 8/20\n",
      "3997/3997 [==============================] - 139s 35ms/step - loss: 3.1822e-04 - tp: 97251.0000 - fp: 3.0000 - tn: 158501.0000 - fn: 53.0000 - accuracy: 0.9998 - precision: 1.0000 - recall: 0.9995 - auc: 1.0000 - prc: 1.0000 - val_loss: 0.0214 - val_tp: 25.0000 - val_fp: 7.0000 - val_tn: 7545.0000 - val_fn: 39.0000 - val_accuracy: 0.9940 - val_precision: 0.7812 - val_recall: 0.3906 - val_auc: 0.8275 - val_prc: 0.5092\n",
      "Epoch 9/20\n",
      "3994/3997 [============================>.] - ETA: 0s - loss: 0.0014 - tp: 97101.0000 - fp: 18.0000 - tn: 158359.0000 - fn: 138.0000 - accuracy: 0.9994 - precision: 0.9998 - recall: 0.9986 - auc: 1.0000 - prc: 1.0000Restoring model weights from the end of the best epoch: 6.\n",
      "3997/3997 [==============================] - 140s 35ms/step - loss: 0.0014 - tp: 97166.0000 - fp: 18.0000 - tn: 158486.0000 - fn: 138.0000 - accuracy: 0.9994 - precision: 0.9998 - recall: 0.9986 - auc: 1.0000 - prc: 1.0000 - val_loss: 0.0218 - val_tp: 21.0000 - val_fp: 19.0000 - val_tn: 7533.0000 - val_fn: 43.0000 - val_accuracy: 0.9919 - val_precision: 0.5250 - val_recall: 0.3281 - val_auc: 0.8544 - val_prc: 0.4188\n",
      "Epoch 9: early stopping\n"
     ]
    },
    {
     "name": "stderr",
     "output_type": "stream",
     "text": [
      "WARNING:absl:Found untraced functions such as _jit_compiled_convolution_op, _jit_compiled_convolution_op, _jit_compiled_convolution_op, _jit_compiled_convolution_op while saving (showing 4 of 4). These functions will not be directly callable after loading.\n"
     ]
    },
    {
     "name": "stdout",
     "output_type": "stream",
     "text": [
      "INFO:tensorflow:Assets written to: ./output/model_onehot_structure_conv_1/assets\n"
     ]
    },
    {
     "name": "stderr",
     "output_type": "stream",
     "text": [
      "INFO:tensorflow:Assets written to: ./output/model_onehot_structure_conv_1/assets\n"
     ]
    },
    {
     "name": "stdout",
     "output_type": "stream",
     "text": [
      "fold2\n",
      "Epoch 1/20\n",
      "3582/3582 [==============================] - 135s 37ms/step - loss: 0.0626 - tp: 73232.0000 - fp: 431.0000 - tn: 142791.0000 - fn: 12794.0000 - accuracy: 0.9423 - precision: 0.9941 - recall: 0.8513 - auc: 0.9947 - prc: 0.9920 - val_loss: 0.0304 - val_tp: 196.0000 - val_fp: 387.0000 - val_tn: 22486.0000 - val_fn: 163.0000 - val_accuracy: 0.9763 - val_precision: 0.3362 - val_recall: 0.5460 - val_auc: 0.8863 - val_prc: 0.3771\n",
      "Epoch 2/20\n",
      "3582/3582 [==============================] - 133s 37ms/step - loss: 0.0056 - tp: 85146.0000 - fp: 66.0000 - tn: 143160.0000 - fn: 876.0000 - accuracy: 0.9959 - precision: 0.9992 - recall: 0.9898 - auc: 1.0000 - prc: 0.9999 - val_loss: 0.0463 - val_tp: 50.0000 - val_fp: 29.0000 - val_tn: 22844.0000 - val_fn: 309.0000 - val_accuracy: 0.9855 - val_precision: 0.6329 - val_recall: 0.1393 - val_auc: 0.8341 - val_prc: 0.3214\n",
      "Epoch 3/20\n",
      "3582/3582 [==============================] - 133s 37ms/step - loss: 0.0026 - tp: 85676.0000 - fp: 27.0000 - tn: 143199.0000 - fn: 346.0000 - accuracy: 0.9984 - precision: 0.9997 - recall: 0.9960 - auc: 1.0000 - prc: 1.0000 - val_loss: 0.0496 - val_tp: 141.0000 - val_fp: 61.0000 - val_tn: 22812.0000 - val_fn: 218.0000 - val_accuracy: 0.9880 - val_precision: 0.6980 - val_recall: 0.3928 - val_auc: 0.8545 - val_prc: 0.3794\n",
      "Epoch 4/20\n",
      "3582/3582 [==============================] - 133s 37ms/step - loss: 8.7012e-04 - tp: 85914.0000 - fp: 8.0000 - tn: 143213.0000 - fn: 113.0000 - accuracy: 0.9995 - precision: 0.9999 - recall: 0.9987 - auc: 1.0000 - prc: 1.0000 - val_loss: 0.0525 - val_tp: 159.0000 - val_fp: 62.0000 - val_tn: 22811.0000 - val_fn: 200.0000 - val_accuracy: 0.9887 - val_precision: 0.7195 - val_recall: 0.4429 - val_auc: 0.8497 - val_prc: 0.4122\n",
      "Epoch 5/20\n",
      "3582/3582 [==============================] - 133s 37ms/step - loss: 0.0011 - tp: 85890.0000 - fp: 13.0000 - tn: 143210.0000 - fn: 135.0000 - accuracy: 0.9994 - precision: 0.9998 - recall: 0.9984 - auc: 1.0000 - prc: 1.0000 - val_loss: 0.0538 - val_tp: 153.0000 - val_fp: 54.0000 - val_tn: 22819.0000 - val_fn: 206.0000 - val_accuracy: 0.9888 - val_precision: 0.7391 - val_recall: 0.4262 - val_auc: 0.8371 - val_prc: 0.4221\n",
      "Epoch 6/20\n",
      "3582/3582 [==============================] - 133s 37ms/step - loss: 4.4491e-04 - tp: 85966.0000 - fp: 5.0000 - tn: 143221.0000 - fn: 56.0000 - accuracy: 0.9997 - precision: 0.9999 - recall: 0.9993 - auc: 1.0000 - prc: 1.0000 - val_loss: 0.0681 - val_tp: 152.0000 - val_fp: 53.0000 - val_tn: 22820.0000 - val_fn: 207.0000 - val_accuracy: 0.9888 - val_precision: 0.7415 - val_recall: 0.4234 - val_auc: 0.8379 - val_prc: 0.4558\n",
      "Epoch 7/20\n",
      "3582/3582 [==============================] - 133s 37ms/step - loss: 0.0015 - tp: 85863.0000 - fp: 21.0000 - tn: 143203.0000 - fn: 161.0000 - accuracy: 0.9992 - precision: 0.9998 - recall: 0.9981 - auc: 1.0000 - prc: 1.0000 - val_loss: 0.0663 - val_tp: 135.0000 - val_fp: 49.0000 - val_tn: 22824.0000 - val_fn: 224.0000 - val_accuracy: 0.9882 - val_precision: 0.7337 - val_recall: 0.3760 - val_auc: 0.8233 - val_prc: 0.3892\n",
      "Epoch 8/20\n",
      "3582/3582 [==============================] - 134s 37ms/step - loss: 6.4065e-04 - tp: 85968.0000 - fp: 7.0000 - tn: 143217.0000 - fn: 56.0000 - accuracy: 0.9997 - precision: 0.9999 - recall: 0.9993 - auc: 1.0000 - prc: 1.0000 - val_loss: 0.0611 - val_tp: 144.0000 - val_fp: 61.0000 - val_tn: 22812.0000 - val_fn: 215.0000 - val_accuracy: 0.9881 - val_precision: 0.7024 - val_recall: 0.4011 - val_auc: 0.8655 - val_prc: 0.4253\n",
      "Epoch 9/20\n",
      "3582/3582 [==============================] - ETA: 0s - loss: 3.1789e-04 - tp: 85988.0000 - fp: 4.0000 - tn: 143223.0000 - fn: 33.0000 - accuracy: 0.9998 - precision: 1.0000 - recall: 0.9996 - auc: 1.0000 - prc: 1.0000Restoring model weights from the end of the best epoch: 6.\n",
      "3582/3582 [==============================] - 133s 37ms/step - loss: 3.1789e-04 - tp: 85988.0000 - fp: 4.0000 - tn: 143223.0000 - fn: 33.0000 - accuracy: 0.9998 - precision: 1.0000 - recall: 0.9996 - auc: 1.0000 - prc: 1.0000 - val_loss: 0.0707 - val_tp: 142.0000 - val_fp: 44.0000 - val_tn: 22829.0000 - val_fn: 217.0000 - val_accuracy: 0.9888 - val_precision: 0.7634 - val_recall: 0.3955 - val_auc: 0.8196 - val_prc: 0.4232\n",
      "Epoch 9: early stopping\n"
     ]
    },
    {
     "name": "stderr",
     "output_type": "stream",
     "text": [
      "WARNING:absl:Found untraced functions such as _jit_compiled_convolution_op, _jit_compiled_convolution_op, _jit_compiled_convolution_op, _jit_compiled_convolution_op while saving (showing 4 of 4). These functions will not be directly callable after loading.\n"
     ]
    },
    {
     "name": "stdout",
     "output_type": "stream",
     "text": [
      "INFO:tensorflow:Assets written to: ./output/model_onehot_structure_conv_2/assets\n"
     ]
    },
    {
     "name": "stderr",
     "output_type": "stream",
     "text": [
      "INFO:tensorflow:Assets written to: ./output/model_onehot_structure_conv_2/assets\n"
     ]
    },
    {
     "name": "stdout",
     "output_type": "stream",
     "text": [
      "fold3\n",
      "Epoch 1/20\n",
      "3730/3730 [==============================] - 140s 37ms/step - loss: 0.0579 - tp: 78133.0000 - fp: 391.0000 - tn: 147819.0000 - fn: 12377.0000 - accuracy: 0.9465 - precision: 0.9950 - recall: 0.8633 - auc: 0.9956 - prc: 0.9934 - val_loss: 0.0539 - val_tp: 32.0000 - val_fp: 1023.0000 - val_tn: 16866.0000 - val_fn: 191.0000 - val_accuracy: 0.9330 - val_precision: 0.0303 - val_recall: 0.1435 - val_auc: 0.7931 - val_prc: 0.0323\n",
      "Epoch 2/20\n",
      "3730/3730 [==============================] - 138s 37ms/step - loss: 0.0059 - tp: 89591.0000 - fp: 74.0000 - tn: 148134.0000 - fn: 921.0000 - accuracy: 0.9958 - precision: 0.9992 - recall: 0.9898 - auc: 1.0000 - prc: 0.9999 - val_loss: 0.0461 - val_tp: 15.0000 - val_fp: 497.0000 - val_tn: 17392.0000 - val_fn: 208.0000 - val_accuracy: 0.9611 - val_precision: 0.0293 - val_recall: 0.0673 - val_auc: 0.7795 - val_prc: 0.0290\n",
      "Epoch 3/20\n",
      "3730/3730 [==============================] - 138s 37ms/step - loss: 0.0026 - tp: 90123.0000 - fp: 37.0000 - tn: 148173.0000 - fn: 387.0000 - accuracy: 0.9982 - precision: 0.9996 - recall: 0.9957 - auc: 1.0000 - prc: 1.0000 - val_loss: 0.0458 - val_tp: 8.0000 - val_fp: 243.0000 - val_tn: 17646.0000 - val_fn: 215.0000 - val_accuracy: 0.9747 - val_precision: 0.0319 - val_recall: 0.0359 - val_auc: 0.7314 - val_prc: 0.0262\n",
      "Epoch 4/20\n",
      "3727/3730 [============================>.] - ETA: 0s - loss: 0.0012 - tp: 90277.0000 - fp: 13.0000 - tn: 148083.0000 - fn: 155.0000 - accuracy: 0.9993 - precision: 0.9999 - recall: 0.9983 - auc: 1.0000 - prc: 1.0000Restoring model weights from the end of the best epoch: 1.\n",
      "3730/3730 [==============================] - 138s 37ms/step - loss: 0.0012 - tp: 90356.0000 - fp: 13.0000 - tn: 148196.0000 - fn: 155.0000 - accuracy: 0.9993 - precision: 0.9999 - recall: 0.9983 - auc: 1.0000 - prc: 1.0000 - val_loss: 0.0678 - val_tp: 13.0000 - val_fp: 436.0000 - val_tn: 17453.0000 - val_fn: 210.0000 - val_accuracy: 0.9643 - val_precision: 0.0290 - val_recall: 0.0583 - val_auc: 0.6651 - val_prc: 0.0230\n",
      "Epoch 4: early stopping\n"
     ]
    },
    {
     "name": "stderr",
     "output_type": "stream",
     "text": [
      "WARNING:absl:Found untraced functions such as _jit_compiled_convolution_op, _jit_compiled_convolution_op, _jit_compiled_convolution_op, _jit_compiled_convolution_op while saving (showing 4 of 4). These functions will not be directly callable after loading.\n"
     ]
    },
    {
     "name": "stdout",
     "output_type": "stream",
     "text": [
      "INFO:tensorflow:Assets written to: ./output/model_onehot_structure_conv_3/assets\n"
     ]
    },
    {
     "name": "stderr",
     "output_type": "stream",
     "text": [
      "INFO:tensorflow:Assets written to: ./output/model_onehot_structure_conv_3/assets\n"
     ]
    },
    {
     "name": "stdout",
     "output_type": "stream",
     "text": [
      "fold4\n",
      "Epoch 1/20\n",
      "3945/3945 [==============================] - 136s 34ms/step - loss: 0.0501 - tp: 80566.0000 - fp: 357.0000 - tn: 160396.0000 - fn: 11161.0000 - accuracy: 0.9544 - precision: 0.9956 - recall: 0.8783 - auc: 0.9966 - prc: 0.9946 - val_loss: 0.1336 - val_tp: 56.0000 - val_fp: 55.0000 - val_tn: 5281.0000 - val_fn: 304.0000 - val_accuracy: 0.9370 - val_precision: 0.5045 - val_recall: 0.1556 - val_auc: 0.7356 - val_prc: 0.2273\n",
      "Epoch 2/20\n",
      "3945/3945 [==============================] - 135s 34ms/step - loss: 0.0047 - tp: 90970.0000 - fp: 65.0000 - tn: 160686.0000 - fn: 759.0000 - accuracy: 0.9967 - precision: 0.9993 - recall: 0.9917 - auc: 1.0000 - prc: 1.0000 - val_loss: 0.1132 - val_tp: 82.0000 - val_fp: 128.0000 - val_tn: 5208.0000 - val_fn: 278.0000 - val_accuracy: 0.9287 - val_precision: 0.3905 - val_recall: 0.2278 - val_auc: 0.8369 - val_prc: 0.2792\n",
      "Epoch 3/20\n",
      "3945/3945 [==============================] - 136s 34ms/step - loss: 0.0022 - tp: 91436.0000 - fp: 28.0000 - tn: 160728.0000 - fn: 288.0000 - accuracy: 0.9987 - precision: 0.9997 - recall: 0.9969 - auc: 1.0000 - prc: 1.0000 - val_loss: 0.2219 - val_tp: 53.0000 - val_fp: 41.0000 - val_tn: 5295.0000 - val_fn: 307.0000 - val_accuracy: 0.9389 - val_precision: 0.5638 - val_recall: 0.1472 - val_auc: 0.8338 - val_prc: 0.2715\n",
      "Epoch 4/20\n",
      "3945/3945 [==============================] - 135s 34ms/step - loss: 0.0011 - tp: 91568.0000 - fp: 18.0000 - tn: 160732.0000 - fn: 162.0000 - accuracy: 0.9993 - precision: 0.9998 - recall: 0.9982 - auc: 1.0000 - prc: 1.0000 - val_loss: 0.1991 - val_tp: 51.0000 - val_fp: 67.0000 - val_tn: 5269.0000 - val_fn: 309.0000 - val_accuracy: 0.9340 - val_precision: 0.4322 - val_recall: 0.1417 - val_auc: 0.8643 - val_prc: 0.2894\n",
      "Epoch 5/20\n",
      "3945/3945 [==============================] - 135s 34ms/step - loss: 8.2921e-04 - tp: 91618.0000 - fp: 15.0000 - tn: 160736.0000 - fn: 111.0000 - accuracy: 0.9995 - precision: 0.9998 - recall: 0.9988 - auc: 1.0000 - prc: 1.0000 - val_loss: 0.2451 - val_tp: 54.0000 - val_fp: 48.0000 - val_tn: 5288.0000 - val_fn: 306.0000 - val_accuracy: 0.9379 - val_precision: 0.5294 - val_recall: 0.1500 - val_auc: 0.8327 - val_prc: 0.2944\n",
      "Epoch 6/20\n",
      "3945/3945 [==============================] - 135s 34ms/step - loss: 0.0012 - tp: 91596.0000 - fp: 11.0000 - tn: 160744.0000 - fn: 129.0000 - accuracy: 0.9994 - precision: 0.9999 - recall: 0.9986 - auc: 1.0000 - prc: 1.0000 - val_loss: 0.3008 - val_tp: 43.0000 - val_fp: 36.0000 - val_tn: 5300.0000 - val_fn: 317.0000 - val_accuracy: 0.9380 - val_precision: 0.5443 - val_recall: 0.1194 - val_auc: 0.7469 - val_prc: 0.2435\n",
      "Epoch 7/20\n",
      "3945/3945 [==============================] - 136s 35ms/step - loss: 4.0848e-04 - tp: 91672.0000 - fp: 6.0000 - tn: 160746.0000 - fn: 56.0000 - accuracy: 0.9998 - precision: 0.9999 - recall: 0.9994 - auc: 1.0000 - prc: 1.0000 - val_loss: 0.2500 - val_tp: 63.0000 - val_fp: 42.0000 - val_tn: 5294.0000 - val_fn: 297.0000 - val_accuracy: 0.9405 - val_precision: 0.6000 - val_recall: 0.1750 - val_auc: 0.8097 - val_prc: 0.2764\n",
      "Epoch 8/20\n",
      "3945/3945 [==============================] - 135s 34ms/step - loss: 6.9971e-04 - tp: 91645.0000 - fp: 12.0000 - tn: 160747.0000 - fn: 76.0000 - accuracy: 0.9997 - precision: 0.9999 - recall: 0.9992 - auc: 1.0000 - prc: 1.0000 - val_loss: 0.2243 - val_tp: 57.0000 - val_fp: 30.0000 - val_tn: 5306.0000 - val_fn: 303.0000 - val_accuracy: 0.9415 - val_precision: 0.6552 - val_recall: 0.1583 - val_auc: 0.8562 - val_prc: 0.3230\n",
      "Epoch 9/20\n",
      "3945/3945 [==============================] - 135s 34ms/step - loss: 2.6107e-04 - tp: 91697.0000 - fp: 3.0000 - tn: 160748.0000 - fn: 32.0000 - accuracy: 0.9999 - precision: 1.0000 - recall: 0.9997 - auc: 1.0000 - prc: 1.0000 - val_loss: 0.3518 - val_tp: 26.0000 - val_fp: 33.0000 - val_tn: 5303.0000 - val_fn: 334.0000 - val_accuracy: 0.9356 - val_precision: 0.4407 - val_recall: 0.0722 - val_auc: 0.7061 - val_prc: 0.2396\n",
      "Epoch 10/20\n",
      "3945/3945 [==============================] - 135s 34ms/step - loss: 6.5010e-04 - tp: 91650.0000 - fp: 11.0000 - tn: 160746.0000 - fn: 73.0000 - accuracy: 0.9997 - precision: 0.9999 - recall: 0.9992 - auc: 1.0000 - prc: 1.0000 - val_loss: 0.2913 - val_tp: 24.0000 - val_fp: 32.0000 - val_tn: 5304.0000 - val_fn: 336.0000 - val_accuracy: 0.9354 - val_precision: 0.4286 - val_recall: 0.0667 - val_auc: 0.7383 - val_prc: 0.2096\n",
      "Epoch 11/20\n",
      "3942/3945 [============================>.] - ETA: 0s - loss: 3.3375e-04 - tp: 91603.0000 - fp: 6.0000 - tn: 160634.0000 - fn: 45.0000 - accuracy: 0.9998 - precision: 0.9999 - recall: 0.9995 - auc: 1.0000 - prc: 1.0000Restoring model weights from the end of the best epoch: 8.\n",
      "3945/3945 [==============================] - 135s 34ms/step - loss: 3.3352e-04 - tp: 91680.0000 - fp: 6.0000 - tn: 160749.0000 - fn: 45.0000 - accuracy: 0.9998 - precision: 0.9999 - recall: 0.9995 - auc: 1.0000 - prc: 1.0000 - val_loss: 0.3283 - val_tp: 37.0000 - val_fp: 37.0000 - val_tn: 5299.0000 - val_fn: 323.0000 - val_accuracy: 0.9368 - val_precision: 0.5000 - val_recall: 0.1028 - val_auc: 0.7781 - val_prc: 0.2914\n",
      "Epoch 11: early stopping\n"
     ]
    },
    {
     "name": "stderr",
     "output_type": "stream",
     "text": [
      "WARNING:absl:Found untraced functions such as _jit_compiled_convolution_op, _jit_compiled_convolution_op, _jit_compiled_convolution_op, _jit_compiled_convolution_op while saving (showing 4 of 4). These functions will not be directly callable after loading.\n"
     ]
    },
    {
     "name": "stdout",
     "output_type": "stream",
     "text": [
      "INFO:tensorflow:Assets written to: ./output/model_onehot_structure_conv_4/assets\n"
     ]
    },
    {
     "name": "stderr",
     "output_type": "stream",
     "text": [
      "INFO:tensorflow:Assets written to: ./output/model_onehot_structure_conv_4/assets\n"
     ]
    },
    {
     "name": "stdout",
     "output_type": "stream",
     "text": [
      "fold5\n",
      "Epoch 1/20\n",
      "3775/3775 [==============================] - 137s 36ms/step - loss: 0.0634 - tp: 78912.0000 - fp: 393.0000 - tn: 148554.0000 - fn: 13741.0000 - accuracy: 0.9415 - precision: 0.9950 - recall: 0.8517 - auc: 0.9948 - prc: 0.9923 - val_loss: 0.0256 - val_tp: 67.0000 - val_fp: 641.0000 - val_tn: 16500.0000 - val_fn: 8.0000 - val_accuracy: 0.9623 - val_precision: 0.0946 - val_recall: 0.8933 - val_auc: 0.9515 - val_prc: 0.7102\n",
      "Epoch 2/20\n",
      "3775/3775 [==============================] - 136s 36ms/step - loss: 0.0070 - tp: 91528.0000 - fp: 87.0000 - tn: 148859.0000 - fn: 1126.0000 - accuracy: 0.9950 - precision: 0.9991 - recall: 0.9878 - auc: 1.0000 - prc: 0.9999 - val_loss: 0.0267 - val_tp: 67.0000 - val_fp: 485.0000 - val_tn: 16656.0000 - val_fn: 8.0000 - val_accuracy: 0.9714 - val_precision: 0.1214 - val_recall: 0.8933 - val_auc: 0.9584 - val_prc: 0.5103\n",
      "Epoch 3/20\n",
      "3775/3775 [==============================] - 136s 36ms/step - loss: 0.0032 - tp: 92186.0000 - fp: 45.0000 - tn: 148900.0000 - fn: 469.0000 - accuracy: 0.9979 - precision: 0.9995 - recall: 0.9949 - auc: 1.0000 - prc: 1.0000 - val_loss: 0.0251 - val_tp: 61.0000 - val_fp: 574.0000 - val_tn: 16567.0000 - val_fn: 14.0000 - val_accuracy: 0.9658 - val_precision: 0.0961 - val_recall: 0.8133 - val_auc: 0.9403 - val_prc: 0.4262\n",
      "Epoch 4/20\n",
      "3774/3775 [============================>.] - ETA: 0s - loss: 0.0017 - tp: 92416.0000 - fp: 20.0000 - tn: 148887.0000 - fn: 213.0000 - accuracy: 0.9990 - precision: 0.9998 - recall: 0.9977 - auc: 1.0000 - prc: 1.0000Restoring model weights from the end of the best epoch: 1.\n",
      "3775/3775 [==============================] - 136s 36ms/step - loss: 0.0017 - tp: 92441.0000 - fp: 20.0000 - tn: 148926.0000 - fn: 213.0000 - accuracy: 0.9990 - precision: 0.9998 - recall: 0.9977 - auc: 1.0000 - prc: 1.0000 - val_loss: 0.0337 - val_tp: 64.0000 - val_fp: 419.0000 - val_tn: 16722.0000 - val_fn: 11.0000 - val_accuracy: 0.9750 - val_precision: 0.1325 - val_recall: 0.8533 - val_auc: 0.9426 - val_prc: 0.3277\n",
      "Epoch 4: early stopping\n"
     ]
    },
    {
     "name": "stderr",
     "output_type": "stream",
     "text": [
      "WARNING:absl:Found untraced functions such as _jit_compiled_convolution_op, _jit_compiled_convolution_op, _jit_compiled_convolution_op, _jit_compiled_convolution_op while saving (showing 4 of 4). These functions will not be directly callable after loading.\n"
     ]
    },
    {
     "name": "stdout",
     "output_type": "stream",
     "text": [
      "INFO:tensorflow:Assets written to: ./output/model_onehot_structure_conv_5/assets\n"
     ]
    },
    {
     "name": "stderr",
     "output_type": "stream",
     "text": [
      "INFO:tensorflow:Assets written to: ./output/model_onehot_structure_conv_5/assets\n"
     ]
    },
    {
     "name": "stdout",
     "output_type": "stream",
     "text": [
      "fold6\n",
      "Epoch 1/20\n",
      "3758/3758 [==============================] - 140s 37ms/step - loss: 0.0561 - tp: 79385.0000 - fp: 413.0000 - tn: 148786.0000 - fn: 11928.0000 - accuracy: 0.9487 - precision: 0.9948 - recall: 0.8694 - auc: 0.9960 - prc: 0.9939 - val_loss: 0.0396 - val_tp: 43.0000 - val_fp: 471.0000 - val_tn: 16404.0000 - val_fn: 170.0000 - val_accuracy: 0.9625 - val_precision: 0.0837 - val_recall: 0.2019 - val_auc: 0.6840 - val_prc: 0.0586\n",
      "Epoch 2/20\n",
      "3758/3758 [==============================] - 139s 37ms/step - loss: 0.0068 - tp: 90194.0000 - fp: 79.0000 - tn: 149119.0000 - fn: 1120.0000 - accuracy: 0.9950 - precision: 0.9991 - recall: 0.9877 - auc: 1.0000 - prc: 0.9999 - val_loss: 0.0639 - val_tp: 54.0000 - val_fp: 746.0000 - val_tn: 16129.0000 - val_fn: 159.0000 - val_accuracy: 0.9470 - val_precision: 0.0675 - val_recall: 0.2535 - val_auc: 0.6092 - val_prc: 0.1904\n",
      "Epoch 3/20\n",
      "3758/3758 [==============================] - 138s 37ms/step - loss: 0.0026 - tp: 90912.0000 - fp: 39.0000 - tn: 149161.0000 - fn: 400.0000 - accuracy: 0.9982 - precision: 0.9996 - recall: 0.9956 - auc: 1.0000 - prc: 1.0000 - val_loss: 0.0445 - val_tp: 37.0000 - val_fp: 79.0000 - val_tn: 16796.0000 - val_fn: 176.0000 - val_accuracy: 0.9851 - val_precision: 0.3190 - val_recall: 0.1737 - val_auc: 0.6544 - val_prc: 0.1189\n",
      "Epoch 4/20\n",
      "3758/3758 [==============================] - 138s 37ms/step - loss: 0.0014 - tp: 91136.0000 - fp: 14.0000 - tn: 149182.0000 - fn: 180.0000 - accuracy: 0.9992 - precision: 0.9998 - recall: 0.9980 - auc: 1.0000 - prc: 1.0000 - val_loss: 0.0793 - val_tp: 45.0000 - val_fp: 392.0000 - val_tn: 16483.0000 - val_fn: 168.0000 - val_accuracy: 0.9672 - val_precision: 0.1030 - val_recall: 0.2113 - val_auc: 0.6350 - val_prc: 0.0821\n",
      "Epoch 5/20\n",
      "3757/3758 [============================>.] - ETA: 0s - loss: 0.0015 - tp: 91081.0000 - fp: 29.0000 - tn: 149133.0000 - fn: 205.0000 - accuracy: 0.9990 - precision: 0.9997 - recall: 0.9978 - auc: 1.0000 - prc: 1.0000Restoring model weights from the end of the best epoch: 2.\n",
      "3758/3758 [==============================] - 138s 37ms/step - loss: 0.0015 - tp: 91106.0000 - fp: 29.0000 - tn: 149172.0000 - fn: 205.0000 - accuracy: 0.9990 - precision: 0.9997 - recall: 0.9978 - auc: 1.0000 - prc: 1.0000 - val_loss: 0.0748 - val_tp: 48.0000 - val_fp: 545.0000 - val_tn: 16330.0000 - val_fn: 165.0000 - val_accuracy: 0.9585 - val_precision: 0.0809 - val_recall: 0.2254 - val_auc: 0.6729 - val_prc: 0.1331\n",
      "Epoch 5: early stopping\n"
     ]
    },
    {
     "name": "stderr",
     "output_type": "stream",
     "text": [
      "WARNING:absl:Found untraced functions such as _jit_compiled_convolution_op, _jit_compiled_convolution_op, _jit_compiled_convolution_op, _jit_compiled_convolution_op while saving (showing 4 of 4). These functions will not be directly callable after loading.\n"
     ]
    },
    {
     "name": "stdout",
     "output_type": "stream",
     "text": [
      "INFO:tensorflow:Assets written to: ./output/model_onehot_structure_conv_6/assets\n"
     ]
    },
    {
     "name": "stderr",
     "output_type": "stream",
     "text": [
      "INFO:tensorflow:Assets written to: ./output/model_onehot_structure_conv_6/assets\n"
     ]
    },
    {
     "name": "stdout",
     "output_type": "stream",
     "text": [
      "fold7\n",
      "Epoch 1/20\n",
      "3579/3579 [==============================] - 135s 37ms/step - loss: 0.0561 - tp: 77271.0000 - fp: 409.0000 - tn: 140551.0000 - fn: 10825.0000 - accuracy: 0.9510 - precision: 0.9947 - recall: 0.8771 - auc: 0.9959 - prc: 0.9940 - val_loss: 0.0446 - val_tp: 35.0000 - val_fp: 1266.0000 - val_tn: 23900.0000 - val_fn: 143.0000 - val_accuracy: 0.9444 - val_precision: 0.0269 - val_recall: 0.1966 - val_auc: 0.7170 - val_prc: 0.0408\n",
      "Epoch 2/20\n",
      "3579/3579 [==============================] - 134s 37ms/step - loss: 0.0061 - tp: 87218.0000 - fp: 82.0000 - tn: 140879.0000 - fn: 877.0000 - accuracy: 0.9958 - precision: 0.9991 - recall: 0.9900 - auc: 1.0000 - prc: 0.9999 - val_loss: 0.0847 - val_tp: 67.0000 - val_fp: 2469.0000 - val_tn: 22697.0000 - val_fn: 111.0000 - val_accuracy: 0.8982 - val_precision: 0.0264 - val_recall: 0.3764 - val_auc: 0.7491 - val_prc: 0.0595\n",
      "Epoch 3/20\n",
      "3579/3579 [==============================] - 133s 37ms/step - loss: 0.0025 - tp: 87748.0000 - fp: 31.0000 - tn: 140927.0000 - fn: 350.0000 - accuracy: 0.9983 - precision: 0.9996 - recall: 0.9960 - auc: 1.0000 - prc: 1.0000 - val_loss: 0.0594 - val_tp: 30.0000 - val_fp: 998.0000 - val_tn: 24168.0000 - val_fn: 148.0000 - val_accuracy: 0.9548 - val_precision: 0.0292 - val_recall: 0.1685 - val_auc: 0.6193 - val_prc: 0.0504\n",
      "Epoch 4/20\n",
      "3579/3579 [==============================] - 133s 37ms/step - loss: 0.0018 - tp: 87878.0000 - fp: 25.0000 - tn: 140935.0000 - fn: 218.0000 - accuracy: 0.9989 - precision: 0.9997 - recall: 0.9975 - auc: 1.0000 - prc: 1.0000 - val_loss: 0.1253 - val_tp: 65.0000 - val_fp: 3144.0000 - val_tn: 22022.0000 - val_fn: 113.0000 - val_accuracy: 0.8715 - val_precision: 0.0203 - val_recall: 0.3652 - val_auc: 0.7459 - val_prc: 0.0575\n",
      "Epoch 5/20\n",
      "3575/3579 [============================>.] - ETA: 0s - loss: 7.8000e-04 - tp: 87934.0000 - fp: 9.0000 - tn: 140779.0000 - fn: 78.0000 - accuracy: 0.9996 - precision: 0.9999 - recall: 0.9991 - auc: 1.0000 - prc: 1.0000Restoring model weights from the end of the best epoch: 2.\n",
      "3579/3579 [==============================] - 134s 37ms/step - loss: 7.7935e-04 - tp: 88019.0000 - fp: 9.0000 - tn: 140950.0000 - fn: 78.0000 - accuracy: 0.9996 - precision: 0.9999 - recall: 0.9991 - auc: 1.0000 - prc: 1.0000 - val_loss: 0.0738 - val_tp: 32.0000 - val_fp: 1612.0000 - val_tn: 23554.0000 - val_fn: 146.0000 - val_accuracy: 0.9306 - val_precision: 0.0195 - val_recall: 0.1798 - val_auc: 0.7317 - val_prc: 0.0428\n",
      "Epoch 5: early stopping\n"
     ]
    },
    {
     "name": "stderr",
     "output_type": "stream",
     "text": [
      "WARNING:absl:Found untraced functions such as _jit_compiled_convolution_op, _jit_compiled_convolution_op, _jit_compiled_convolution_op, _jit_compiled_convolution_op while saving (showing 4 of 4). These functions will not be directly callable after loading.\n"
     ]
    },
    {
     "name": "stdout",
     "output_type": "stream",
     "text": [
      "INFO:tensorflow:Assets written to: ./output/model_onehot_structure_conv_7/assets\n"
     ]
    },
    {
     "name": "stderr",
     "output_type": "stream",
     "text": [
      "INFO:tensorflow:Assets written to: ./output/model_onehot_structure_conv_7/assets\n"
     ]
    },
    {
     "name": "stdout",
     "output_type": "stream",
     "text": [
      "fold8\n",
      "Epoch 1/20\n",
      "3939/3939 [==============================] - 141s 35ms/step - loss: 0.0629 - tp: 79292.0000 - fp: 438.0000 - tn: 158634.0000 - fn: 13732.0000 - accuracy: 0.9438 - precision: 0.9945 - recall: 0.8524 - auc: 0.9941 - prc: 0.9911 - val_loss: 0.0804 - val_tp: 78.0000 - val_fp: 55.0000 - val_tn: 6967.0000 - val_fn: 260.0000 - val_accuracy: 0.9572 - val_precision: 0.5865 - val_recall: 0.2308 - val_auc: 0.8713 - val_prc: 0.3581\n",
      "Epoch 2/20\n",
      "3939/3939 [==============================] - 139s 35ms/step - loss: 0.0060 - tp: 92045.0000 - fp: 61.0000 - tn: 159011.0000 - fn: 979.0000 - accuracy: 0.9959 - precision: 0.9993 - recall: 0.9895 - auc: 1.0000 - prc: 0.9999 - val_loss: 0.1541 - val_tp: 44.0000 - val_fp: 26.0000 - val_tn: 6996.0000 - val_fn: 294.0000 - val_accuracy: 0.9565 - val_precision: 0.6286 - val_recall: 0.1302 - val_auc: 0.8481 - val_prc: 0.3078\n",
      "Epoch 3/20\n",
      "3939/3939 [==============================] - 139s 35ms/step - loss: 0.0028 - tp: 92605.0000 - fp: 33.0000 - tn: 159039.0000 - fn: 419.0000 - accuracy: 0.9982 - precision: 0.9996 - recall: 0.9955 - auc: 1.0000 - prc: 1.0000 - val_loss: 0.1661 - val_tp: 35.0000 - val_fp: 31.0000 - val_tn: 6991.0000 - val_fn: 303.0000 - val_accuracy: 0.9546 - val_precision: 0.5303 - val_recall: 0.1036 - val_auc: 0.8738 - val_prc: 0.3422\n",
      "Epoch 4/20\n",
      "3938/3939 [============================>.] - ETA: 0s - loss: 0.0014 - tp: 92802.0000 - fp: 19.0000 - tn: 159016.0000 - fn: 195.0000 - accuracy: 0.9992 - precision: 0.9998 - recall: 0.9979 - auc: 1.0000 - prc: 1.0000Restoring model weights from the end of the best epoch: 1.\n",
      "3939/3939 [==============================] - 139s 35ms/step - loss: 0.0014 - tp: 92829.0000 - fp: 19.0000 - tn: 159053.0000 - fn: 195.0000 - accuracy: 0.9992 - precision: 0.9998 - recall: 0.9979 - auc: 1.0000 - prc: 1.0000 - val_loss: 0.1931 - val_tp: 52.0000 - val_fp: 29.0000 - val_tn: 6993.0000 - val_fn: 286.0000 - val_accuracy: 0.9572 - val_precision: 0.6420 - val_recall: 0.1538 - val_auc: 0.8279 - val_prc: 0.3395\n",
      "Epoch 4: early stopping\n"
     ]
    },
    {
     "name": "stderr",
     "output_type": "stream",
     "text": [
      "WARNING:absl:Found untraced functions such as _jit_compiled_convolution_op, _jit_compiled_convolution_op, _jit_compiled_convolution_op, _jit_compiled_convolution_op while saving (showing 4 of 4). These functions will not be directly callable after loading.\n"
     ]
    },
    {
     "name": "stdout",
     "output_type": "stream",
     "text": [
      "INFO:tensorflow:Assets written to: ./output/model_onehot_structure_conv_8/assets\n"
     ]
    },
    {
     "name": "stderr",
     "output_type": "stream",
     "text": [
      "INFO:tensorflow:Assets written to: ./output/model_onehot_structure_conv_8/assets\n"
     ]
    },
    {
     "name": "stdout",
     "output_type": "stream",
     "text": [
      "fold9\n",
      "Epoch 1/20\n",
      "3606/3606 [==============================] - 134s 37ms/step - loss: 0.0587 - tp: 75167.0000 - fp: 456.0000 - tn: 143260.0000 - fn: 11901.0000 - accuracy: 0.9465 - precision: 0.9940 - recall: 0.8633 - auc: 0.9957 - prc: 0.9934 - val_loss: 0.0591 - val_tp: 146.0000 - val_fp: 1548.0000 - val_tn: 20834.0000 - val_fn: 128.0000 - val_accuracy: 0.9260 - val_precision: 0.0862 - val_recall: 0.5328 - val_auc: 0.7848 - val_prc: 0.2392\n",
      "Epoch 2/20\n",
      "3606/3606 [==============================] - 132s 37ms/step - loss: 0.0064 - tp: 86137.0000 - fp: 83.0000 - tn: 143636.0000 - fn: 928.0000 - accuracy: 0.9956 - precision: 0.9990 - recall: 0.9893 - auc: 1.0000 - prc: 0.9999 - val_loss: 0.0881 - val_tp: 152.0000 - val_fp: 2380.0000 - val_tn: 20002.0000 - val_fn: 122.0000 - val_accuracy: 0.8896 - val_precision: 0.0600 - val_recall: 0.5547 - val_auc: 0.7931 - val_prc: 0.2706\n",
      "Epoch 3/20\n",
      "3606/3606 [==============================] - 132s 37ms/step - loss: 0.0022 - tp: 86785.0000 - fp: 26.0000 - tn: 143688.0000 - fn: 285.0000 - accuracy: 0.9987 - precision: 0.9997 - recall: 0.9967 - auc: 1.0000 - prc: 1.0000 - val_loss: 0.0448 - val_tp: 96.0000 - val_fp: 948.0000 - val_tn: 21434.0000 - val_fn: 178.0000 - val_accuracy: 0.9503 - val_precision: 0.0920 - val_recall: 0.3504 - val_auc: 0.7780 - val_prc: 0.1584\n",
      "Epoch 4/20\n",
      "3606/3606 [==============================] - 132s 37ms/step - loss: 0.0011 - tp: 86920.0000 - fp: 17.0000 - tn: 143701.0000 - fn: 146.0000 - accuracy: 0.9993 - precision: 0.9998 - recall: 0.9983 - auc: 1.0000 - prc: 1.0000 - val_loss: 0.1029 - val_tp: 114.0000 - val_fp: 2078.0000 - val_tn: 20304.0000 - val_fn: 160.0000 - val_accuracy: 0.9012 - val_precision: 0.0520 - val_recall: 0.4161 - val_auc: 0.7815 - val_prc: 0.2650\n",
      "Epoch 5/20\n",
      "3606/3606 [==============================] - ETA: 0s - loss: 7.0237e-04 - tp: 86983.0000 - fp: 11.0000 - tn: 143701.0000 - fn: 89.0000 - accuracy: 0.9996 - precision: 0.9999 - recall: 0.9990 - auc: 1.0000 - prc: 1.0000Restoring model weights from the end of the best epoch: 2.\n",
      "3606/3606 [==============================] - 132s 37ms/step - loss: 7.0237e-04 - tp: 86983.0000 - fp: 11.0000 - tn: 143701.0000 - fn: 89.0000 - accuracy: 0.9996 - precision: 0.9999 - recall: 0.9990 - auc: 1.0000 - prc: 1.0000 - val_loss: 0.0627 - val_tp: 111.0000 - val_fp: 729.0000 - val_tn: 21653.0000 - val_fn: 163.0000 - val_accuracy: 0.9606 - val_precision: 0.1321 - val_recall: 0.4051 - val_auc: 0.7387 - val_prc: 0.2697\n",
      "Epoch 5: early stopping\n"
     ]
    },
    {
     "name": "stderr",
     "output_type": "stream",
     "text": [
      "WARNING:absl:Found untraced functions such as _jit_compiled_convolution_op, _jit_compiled_convolution_op, _jit_compiled_convolution_op, _jit_compiled_convolution_op while saving (showing 4 of 4). These functions will not be directly callable after loading.\n"
     ]
    },
    {
     "name": "stdout",
     "output_type": "stream",
     "text": [
      "INFO:tensorflow:Assets written to: ./output/model_onehot_structure_conv_9/assets\n"
     ]
    },
    {
     "name": "stderr",
     "output_type": "stream",
     "text": [
      "INFO:tensorflow:Assets written to: ./output/model_onehot_structure_conv_9/assets\n"
     ]
    },
    {
     "name": "stdout",
     "output_type": "stream",
     "text": [
      "fold10\n",
      "Epoch 1/20\n",
      "3962/3962 [==============================] - 140s 35ms/step - loss: 0.0644 - tp: 82287.0000 - fp: 509.0000 - tn: 156450.0000 - fn: 14322.0000 - accuracy: 0.9415 - precision: 0.9939 - recall: 0.8518 - auc: 0.9944 - prc: 0.9918 - val_loss: 0.0174 - val_tp: 102.0000 - val_fp: 55.0000 - val_tn: 9045.0000 - val_fn: 14.0000 - val_accuracy: 0.9925 - val_precision: 0.6497 - val_recall: 0.8793 - val_auc: 0.9928 - val_prc: 0.6218\n",
      "Epoch 2/20\n",
      "3962/3962 [==============================] - 138s 35ms/step - loss: 0.0072 - tp: 95379.0000 - fp: 89.0000 - tn: 156868.0000 - fn: 1232.0000 - accuracy: 0.9948 - precision: 0.9991 - recall: 0.9872 - auc: 0.9999 - prc: 0.9999 - val_loss: 0.0236 - val_tp: 103.0000 - val_fp: 112.0000 - val_tn: 8988.0000 - val_fn: 13.0000 - val_accuracy: 0.9864 - val_precision: 0.4791 - val_recall: 0.8879 - val_auc: 0.9908 - val_prc: 0.6148\n",
      "Epoch 3/20\n",
      "3962/3962 [==============================] - 138s 35ms/step - loss: 0.0028 - tp: 96179.0000 - fp: 29.0000 - tn: 156933.0000 - fn: 427.0000 - accuracy: 0.9982 - precision: 0.9997 - recall: 0.9956 - auc: 1.0000 - prc: 1.0000 - val_loss: 0.0138 - val_tp: 86.0000 - val_fp: 27.0000 - val_tn: 9073.0000 - val_fn: 30.0000 - val_accuracy: 0.9938 - val_precision: 0.7611 - val_recall: 0.7414 - val_auc: 0.9873 - val_prc: 0.7208\n",
      "Epoch 4/20\n",
      "3962/3962 [==============================] - 138s 35ms/step - loss: 0.0013 - tp: 96418.0000 - fp: 18.0000 - tn: 156936.0000 - fn: 196.0000 - accuracy: 0.9992 - precision: 0.9998 - recall: 0.9980 - auc: 1.0000 - prc: 1.0000 - val_loss: 0.0338 - val_tp: 98.0000 - val_fp: 113.0000 - val_tn: 8987.0000 - val_fn: 18.0000 - val_accuracy: 0.9858 - val_precision: 0.4645 - val_recall: 0.8448 - val_auc: 0.9854 - val_prc: 0.6023\n",
      "Epoch 5/20\n",
      "3962/3962 [==============================] - 138s 35ms/step - loss: 0.0014 - tp: 96424.0000 - fp: 19.0000 - tn: 156943.0000 - fn: 182.0000 - accuracy: 0.9992 - precision: 0.9998 - recall: 0.9981 - auc: 1.0000 - prc: 1.0000 - val_loss: 0.0248 - val_tp: 94.0000 - val_fp: 54.0000 - val_tn: 9046.0000 - val_fn: 22.0000 - val_accuracy: 0.9918 - val_precision: 0.6351 - val_recall: 0.8103 - val_auc: 0.9861 - val_prc: 0.6508\n",
      "Epoch 6/20\n",
      "3959/3962 [============================>.] - ETA: 0s - loss: 9.2832e-04 - tp: 96397.0000 - fp: 11.0000 - tn: 156829.0000 - fn: 139.0000 - accuracy: 0.9994 - precision: 0.9999 - recall: 0.9986 - auc: 1.0000 - prc: 1.0000Restoring model weights from the end of the best epoch: 3.\n",
      "3962/3962 [==============================] - 138s 35ms/step - loss: 9.2763e-04 - tp: 96470.0000 - fp: 11.0000 - tn: 156948.0000 - fn: 139.0000 - accuracy: 0.9994 - precision: 0.9999 - recall: 0.9986 - auc: 1.0000 - prc: 1.0000 - val_loss: 0.0304 - val_tp: 96.0000 - val_fp: 36.0000 - val_tn: 9064.0000 - val_fn: 20.0000 - val_accuracy: 0.9939 - val_precision: 0.7273 - val_recall: 0.8276 - val_auc: 0.9891 - val_prc: 0.6651\n",
      "Epoch 6: early stopping\n"
     ]
    },
    {
     "name": "stderr",
     "output_type": "stream",
     "text": [
      "WARNING:absl:Found untraced functions such as _jit_compiled_convolution_op, _jit_compiled_convolution_op, _jit_compiled_convolution_op, _jit_compiled_convolution_op while saving (showing 4 of 4). These functions will not be directly callable after loading.\n"
     ]
    },
    {
     "name": "stdout",
     "output_type": "stream",
     "text": [
      "INFO:tensorflow:Assets written to: ./output/model_onehot_structure_conv_10/assets\n"
     ]
    },
    {
     "name": "stderr",
     "output_type": "stream",
     "text": [
      "INFO:tensorflow:Assets written to: ./output/model_onehot_structure_conv_10/assets\n"
     ]
    }
   ],
   "source": [
    "input_folder = './input/'\n",
    "output_folder = './output/'\n",
    "max_input_length = 600\n",
    "dropout_rate = 0.1\n",
    "feature_pad_end= '3end'\n",
    "\n",
    "for model in model_list[1:]:\n",
    "    \n",
    "    model_name=model[0]\n",
    "    if 'model_' not in model_name:\n",
    "        continue\n",
    "    \n",
    "    #if model_name in ['model_embed','model_embed_bert', 'model_embed_bert_conv', 'model_embed_conv',\n",
    "    #                 'model_onehot_conv', \n",
    "    #                 'model_onehot_graph_attention', 'model_embed_graph_attention','model_onehot_graph_conv',\n",
    "    #                  'model_embed_graph_conv']:\n",
    "    #    continue\n",
    "    \n",
    "    \n",
    "    custom_model=model[1]\n",
    "    print(model_name)\n",
    "\n",
    "    for fold in range(1,11):\n",
    "        \n",
    "\n",
    "        print('fold'+str(fold))\n",
    "        \n",
    "        data=pd.read_csv(input_folder + '/fold'+str(fold)+'.csv.gz')\n",
    "        \n",
    "        data_train=data[data['set']=='train']\n",
    "        data_valid=data[data['set']=='valid']\n",
    "        \n",
    "        train_gen = functions.DataGenerator(data_train, model_name=model_name, tokenizer=tokenizer)\n",
    "        valid_gen = functions.DataGenerator(data_valid, model_name=model_name, tokenizer=tokenizer, shuffle=False)\n",
    "    \n",
    "        tf.keras.backend.clear_session()\n",
    "\n",
    "        model=custom_model(seq_length=max_input_length, dropout_rate=dropout_rate)\n",
    "\n",
    "        #adam = tf.keras.optimizers.Adam(LRScheduler(d_model), beta_1=0.9, beta_2=0.999, epsilon=1e-08) \n",
    "        adam = tf.keras.optimizers.Adam(learning_rate=0.0001, beta_1=0.9, beta_2=0.999, epsilon=1e-08)\n",
    "        loss = tf.keras.losses.BinaryFocalCrossentropy(gamma=2, from_logits=False)\n",
    "\n",
    "        METRICS = [\n",
    "              keras.metrics.TruePositives(thresholds=0.5, name='tp'),\n",
    "              keras.metrics.FalsePositives(thresholds=0.5,name='fp'),\n",
    "              keras.metrics.TrueNegatives(thresholds=0.5,name='tn'),\n",
    "              keras.metrics.FalseNegatives(thresholds=0.5,name='fn'), \n",
    "              keras.metrics.BinaryAccuracy(name='accuracy'),\n",
    "              keras.metrics.Precision(name='precision'),\n",
    "              keras.metrics.Recall(name='recall'),\n",
    "              keras.metrics.AUC(name='auc'),\n",
    "              keras.metrics.AUC(name='prc', curve='PR'), # precision-recall curve\n",
    "        ]\n",
    "        \n",
    "        loss = tf.keras.losses.BinaryFocalCrossentropy(gamma=2, from_logits=False)\n",
    "\n",
    "        model.compile(loss=loss, metrics=METRICS, optimizer=adam)\n",
    "        \n",
    "        if fold==1:\n",
    "            print(model.summary())\n",
    "\n",
    "        es = EarlyStopping(monitor='val_prc', mode='max', verbose=1, patience=3, restore_best_weights=True)\n",
    "        \n",
    "        #model.fit([train_gen[0][0][0], train_gen[0][0][1]], train_gen[0][1],\n",
    "        #          batch_size=64, epochs=20,  verbose=1, class_weight={0: 1, 1: 1})\n",
    "\n",
    "        model.fit(train_gen, validation_data=valid_gen, \n",
    "              epochs=20, callbacks = [es], verbose=1, class_weight={0: 10, 1: 1})\n",
    "        \n",
    "        with open(output_folder+model_name+'_'+str(fold)+'.json', 'w') as fp:\n",
    "            json.dump(model.history.history, fp)\n",
    "            \n",
    "        if 'graph' in model_name:\n",
    "            continue\n",
    "        \n",
    "        model.save(output_folder+model_name+'_'+str(fold))"
   ]
  },
  {
   "cell_type": "code",
   "execution_count": 16,
   "id": "5d70fbb5-0eea-4d31-bce2-37b222e05725",
   "metadata": {},
   "outputs": [
    {
     "name": "stdout",
     "output_type": "stream",
     "text": [
      "model_onehot_structure_conv\n",
      "fold1\n",
      "Model: \"model\"\n",
      "__________________________________________________________________________________________________\n",
      " Layer (type)                   Output Shape         Param #     Connected to                     \n",
      "==================================================================================================\n",
      " input_1 (InputLayer)           [(None, 600, 4)]     0           []                               \n",
      "                                                                                                  \n",
      " input_2 (InputLayer)           [(None, 600, 3)]     0           []                               \n",
      "                                                                                                  \n",
      " concatenate (Concatenate)      (None, 600, 7)       0           ['input_1[0][0]',                \n",
      "                                                                  'input_2[0][0]']                \n",
      "                                                                                                  \n",
      " conv1d (Conv1D)                (None, 600, 128)     7296        ['concatenate[0][0]']            \n",
      "                                                                                                  \n",
      " max_pooling1d (MaxPooling1D)   (None, 300, 128)     0           ['conv1d[0][0]']                 \n",
      "                                                                                                  \n",
      " dropout (Dropout)              (None, 300, 128)     0           ['max_pooling1d[0][0]']          \n",
      "                                                                                                  \n",
      " conv1d_1 (Conv1D)              (None, 300, 128)     131200      ['dropout[0][0]']                \n",
      "                                                                                                  \n",
      " max_pooling1d_1 (MaxPooling1D)  (None, 150, 128)    0           ['conv1d_1[0][0]']               \n",
      "                                                                                                  \n",
      " dropout_1 (Dropout)            (None, 150, 128)     0           ['max_pooling1d_1[0][0]']        \n",
      "                                                                                                  \n",
      " conv1d_2 (Conv1D)              (None, 150, 128)     131200      ['dropout_1[0][0]']              \n",
      "                                                                                                  \n",
      " max_pooling1d_2 (MaxPooling1D)  (None, 75, 128)     0           ['conv1d_2[0][0]']               \n",
      "                                                                                                  \n",
      " dropout_2 (Dropout)            (None, 75, 128)      0           ['max_pooling1d_2[0][0]']        \n",
      "                                                                                                  \n",
      " conv1d_3 (Conv1D)              (None, 75, 128)      131200      ['dropout_2[0][0]']              \n",
      "                                                                                                  \n",
      " max_pooling1d_3 (MaxPooling1D)  (None, 37, 128)     0           ['conv1d_3[0][0]']               \n",
      "                                                                                                  \n",
      " dropout_3 (Dropout)            (None, 37, 128)      0           ['max_pooling1d_3[0][0]']        \n",
      "                                                                                                  \n",
      " flatten (Flatten)              (None, 4736)         0           ['dropout_3[0][0]']              \n",
      "                                                                                                  \n",
      " dense (Dense)                  (None, 32)           151584      ['flatten[0][0]']                \n",
      "                                                                                                  \n",
      " activation (Activation)        (None, 32)           0           ['dense[0][0]']                  \n",
      "                                                                                                  \n",
      " dropout_4 (Dropout)            (None, 32)           0           ['activation[0][0]']             \n",
      "                                                                                                  \n",
      " dense_1 (Dense)                (None, 1)            33          ['dropout_4[0][0]']              \n",
      "                                                                                                  \n",
      " activation_1 (Activation)      (None, 1)            0           ['dense_1[0][0]']                \n",
      "                                                                                                  \n",
      "==================================================================================================\n",
      "Total params: 552,513\n",
      "Trainable params: 552,513\n",
      "Non-trainable params: 0\n",
      "__________________________________________________________________________________________________\n"
     ]
    },
    {
     "name": "stderr",
     "output_type": "stream",
     "text": [
      "2023-03-06 11:12:27.962829: I tensorflow/core/platform/cpu_feature_guard.cc:193] This TensorFlow binary is optimized with oneAPI Deep Neural Network Library (oneDNN) to use the following CPU instructions in performance-critical operations:  AVX2 AVX512F AVX512_VNNI FMA\n",
      "To enable them in other operations, rebuild TensorFlow with the appropriate compiler flags.\n",
      "2023-03-06 11:12:28.974000: I tensorflow/core/common_runtime/gpu/gpu_device.cc:1616] Created device /job:localhost/replica:0/task:0/device:GPU:0 with 22808 MB memory:  -> device: 0, name: Quadro RTX 6000, pci bus id: 0000:65:00.0, compute capability: 7.5\n"
     ]
    },
    {
     "name": "stdout",
     "output_type": "stream",
     "text": [
      "None\n",
      "fold2\n",
      "fold3\n",
      "fold4\n",
      "fold5\n",
      "fold6\n",
      "fold7\n",
      "fold8\n",
      "fold9\n",
      "fold10\n"
     ]
    }
   ],
   "source": [
    "input_folder = './input/'\n",
    "output_folder = './output/'\n",
    "max_input_length = 600\n",
    "dropout_rate = 0.1\n",
    "feature_pad_end= '3end'\n",
    "\n",
    "for model in model_list[1:]:\n",
    "    \n",
    "    model_name=model[0]\n",
    "    if 'model_' not in model_name:\n",
    "        continue\n",
    "    \n",
    "    if model_name in ['model_embed','model_embed_bert', 'model_embed_bert_conv', 'model_embed_conv',\n",
    "                     'model_onehot_conv', \n",
    "                     'model_onehot_graph_attention', 'model_embed_graph_attention','model_onehot_graph_conv',\n",
    "                      'model_embed_graph_conv']:\n",
    "        continue\n",
    "    \n",
    "    \n",
    "    custom_model=model[1]\n",
    "    print(model_name)\n",
    "\n",
    "    for fold in range(1,11):\n",
    "        \n",
    "\n",
    "        print('fold'+str(fold))\n",
    "        \n",
    "        data=pd.read_csv(input_folder + '/fold'+str(fold)+'.csv.gz')\n",
    "        \n",
    "        data_train=data[data['set']=='train']\n",
    "        data_valid=data[data['set']=='valid']\n",
    "        \n",
    "        train_gen = functions.DataGenerator(data_train, model_name=model_name, tokenizer=tokenizer)\n",
    "        valid_gen = functions.DataGenerator(data_valid, model_name=model_name, tokenizer=tokenizer, shuffle=False)\n",
    "    \n",
    "        tf.keras.backend.clear_session()\n",
    "\n",
    "        model=custom_model(seq_length=max_input_length, dropout_rate=dropout_rate)\n",
    "\n",
    "        #adam = tf.keras.optimizers.Adam(LRScheduler(d_model), beta_1=0.9, beta_2=0.999, epsilon=1e-08) \n",
    "        adam = tf.keras.optimizers.Adam(learning_rate=0.0001, beta_1=0.9, beta_2=0.999, epsilon=1e-08)\n",
    "        loss = tf.keras.losses.BinaryFocalCrossentropy(gamma=2, from_logits=False)\n",
    "\n",
    "        METRICS = [\n",
    "              keras.metrics.TruePositives(thresholds=0.5, name='tp'),\n",
    "              keras.metrics.FalsePositives(thresholds=0.5,name='fp'),\n",
    "              keras.metrics.TrueNegatives(thresholds=0.5,name='tn'),\n",
    "              keras.metrics.FalseNegatives(thresholds=0.5,name='fn'), \n",
    "              keras.metrics.BinaryAccuracy(name='accuracy'),\n",
    "              keras.metrics.Precision(name='precision'),\n",
    "              keras.metrics.Recall(name='recall'),\n",
    "              keras.metrics.AUC(name='auc'),\n",
    "              keras.metrics.AUC(name='prc', curve='PR'), # precision-recall curve\n",
    "        ]\n",
    "        \n",
    "        loss = tf.keras.losses.BinaryFocalCrossentropy(gamma=2, from_logits=False)\n",
    "\n",
    "        model.compile(loss=loss, metrics=METRICS, optimizer=adam)\n",
    "        \n",
    "        if fold==1:\n",
    "            print(model.summary())\n",
    "\n",
    "        es = EarlyStopping(monitor='val_prc', mode='max', verbose=1, patience=3, restore_best_weights=True)\n",
    "        \n",
    "        #model.fit([train_gen[0][0][0], train_gen[0][0][1]], train_gen[0][1],\n",
    "        #          batch_size=64, epochs=20,  verbose=1, class_weight={0: 1, 1: 1})\n",
    "\n",
    "        #model.fit(train_gen, validation_data=valid_gen, \n",
    "        #      epochs=20, callbacks = [es], verbose=1, class_weight={0: 10, 1: 1})\n",
    "        \n",
    "        #with open(output_folder+model_name+'_'+str(fold)+'.json', 'w') as fp:\n",
    "        #    json.dump(model.history.history, fp)\n",
    "        \n",
    "        # model.save(output_folder+model_name+'_'+str(fold))"
   ]
  },
  {
   "cell_type": "code",
   "execution_count": 10,
   "id": "561df849-181c-4d2e-b064-814246dff2e0",
   "metadata": {},
   "outputs": [],
   "source": [
    "# generic functions\n",
    "import os\n",
    "import sys\n",
    "import random\n",
    "import json\n",
    "import pandas as pd\n",
    "import numpy as np\n",
    "\n",
    "input_folder = './input/'\n",
    "output_folder = './output/'\n",
    "tp=[]\n",
    "fp=[]\n",
    "tn=[]\n",
    "fn=[]\n",
    "precision=[]\n",
    "recall=[]\n",
    "auc=[]\n",
    "prc=[]\n",
    "fold = []\n",
    "m = []\n",
    "\n",
    "for model in model_list[1:]:\n",
    "    \n",
    "    model_name=model[0]\n",
    "    if 'model_' not in model_name:\n",
    "        continue\n",
    "        \n",
    "    for j in range(1,11):\n",
    "            #print(j)\n",
    "            f = open(output_folder + model_name +'_'+str(j)+'.json')\n",
    "            result = json.load(f)\n",
    "            f.close()\n",
    "            max_prc = max(result['val_prc'])\n",
    "            index_max = result['val_prc'].index(max_prc)\n",
    "            tp.append(result['val_tp'][index_max])\n",
    "            fp.append(result['val_fp'][index_max])\n",
    "            tn.append(result['val_tn'][index_max])\n",
    "            fn.append(result['val_fp'][index_max])\n",
    "            precision.append(result['val_precision'][index_max])\n",
    "            recall.append(result['val_recall'][index_max])\n",
    "            auc.append(result['val_auc'][index_max])\n",
    "            prc.append(max_prc)\n",
    "            fold.append(j)\n",
    "            m.append(model_name)\n",
    "\n",
    "\n",
    "result=pd.DataFrame({\"tp\":tp,\n",
    "                     \"fp\":fp,\n",
    "                     \"tn\":tn,\n",
    "                     \"fn\":fn,\n",
    "                     \"precision\":precision,\n",
    "                     \"recall\":recall,\n",
    "                     \"auc\":auc,\n",
    "                     \"prc\":prc,\n",
    "                     \"fold\":fold,\n",
    "                     \"model\":m\n",
    "                    })"
   ]
  },
  {
   "cell_type": "code",
   "execution_count": 19,
   "id": "97631505-b2fb-4b3a-966c-f073b5474553",
   "metadata": {},
   "outputs": [
    {
     "data": {
      "image/png": "[encoded data removed]",
      "text/plain": [
       "<Figure size 640x480 with 1 Axes>"
      ]
     },
     "metadata": {},
     "output_type": "display_data"
    }
   ],
   "source": [
    "import matplotlib.pyplot as plt\n",
    "\n",
    "# Create a figure and axis object\n",
    "fig, ax = plt.subplots()\n",
    "\n",
    "# Use the boxplot() method on the dataframe\n",
    "result.boxplot(column='auc', by='model', ax=ax)\n",
    "\n",
    "# Set the axis label\n",
    "ax.set_ylabel('AUC')\n",
    "ax.set_xlabel('Model')\n",
    "\n",
    "plt.xticks(rotation=90)\n",
    "plt.grid(False)\n",
    "\n",
    "# Show the plot\n",
    "plt.show()"
   ]
  },
  {
   "cell_type": "code",
   "execution_count": 12,
   "id": "decc9e9f-9ce3-41bc-9c3b-52fb004f67d6",
   "metadata": {},
   "outputs": [
    {
     "data": {
      "text/html": [
       "<div>\n",
       "<style scoped>\n",
       "    .dataframe tbody tr th:only-of-type {\n",
       "        vertical-align: middle;\n",
       "    }\n",
       "\n",
       "    .dataframe tbody tr th {\n",
       "        vertical-align: top;\n",
       "    }\n",
       "\n",
       "    .dataframe thead th {\n",
       "        text-align: right;\n",
       "    }\n",
       "</style>\n",
       "<table border=\"1\" class=\"dataframe\">\n",
       "  <thead>\n",
       "    <tr style=\"text-align: right;\">\n",
       "      <th></th>\n",
       "      <th>tp</th>\n",
       "      <th>fp</th>\n",
       "      <th>tn</th>\n",
       "      <th>fn</th>\n",
       "      <th>precision</th>\n",
       "      <th>recall</th>\n",
       "      <th>auc</th>\n",
       "      <th>prc</th>\n",
       "      <th>fold</th>\n",
       "    </tr>\n",
       "    <tr>\n",
       "      <th>model</th>\n",
       "      <th></th>\n",
       "      <th></th>\n",
       "      <th></th>\n",
       "      <th></th>\n",
       "      <th></th>\n",
       "      <th></th>\n",
       "      <th></th>\n",
       "      <th></th>\n",
       "      <th></th>\n",
       "    </tr>\n",
       "  </thead>\n",
       "  <tbody>\n",
       "    <tr>\n",
       "      <th>model_embed</th>\n",
       "      <td>79.7</td>\n",
       "      <td>732.0</td>\n",
       "      <td>14401.6</td>\n",
       "      <td>732.0</td>\n",
       "      <td>0.186594</td>\n",
       "      <td>0.426841</td>\n",
       "      <td>0.787234</td>\n",
       "      <td>0.266450</td>\n",
       "      <td>5.5</td>\n",
       "    </tr>\n",
       "    <tr>\n",
       "      <th>model_embed_bert</th>\n",
       "      <td>83.4</td>\n",
       "      <td>610.5</td>\n",
       "      <td>14523.1</td>\n",
       "      <td>610.5</td>\n",
       "      <td>0.227503</td>\n",
       "      <td>0.438501</td>\n",
       "      <td>0.789070</td>\n",
       "      <td>0.318238</td>\n",
       "      <td>5.5</td>\n",
       "    </tr>\n",
       "    <tr>\n",
       "      <th>model_embed_bert_conv</th>\n",
       "      <td>72.4</td>\n",
       "      <td>584.1</td>\n",
       "      <td>14549.5</td>\n",
       "      <td>584.1</td>\n",
       "      <td>0.341832</td>\n",
       "      <td>0.401564</td>\n",
       "      <td>0.833671</td>\n",
       "      <td>0.305911</td>\n",
       "      <td>5.5</td>\n",
       "    </tr>\n",
       "    <tr>\n",
       "      <th>model_embed_conv</th>\n",
       "      <td>84.7</td>\n",
       "      <td>554.1</td>\n",
       "      <td>14579.5</td>\n",
       "      <td>554.1</td>\n",
       "      <td>0.392422</td>\n",
       "      <td>0.455728</td>\n",
       "      <td>0.851119</td>\n",
       "      <td>0.368571</td>\n",
       "      <td>5.5</td>\n",
       "    </tr>\n",
       "    <tr>\n",
       "      <th>model_embed_graph_attention</th>\n",
       "      <td>79.3</td>\n",
       "      <td>547.0</td>\n",
       "      <td>14586.6</td>\n",
       "      <td>547.0</td>\n",
       "      <td>0.446158</td>\n",
       "      <td>0.416394</td>\n",
       "      <td>0.793615</td>\n",
       "      <td>0.366206</td>\n",
       "      <td>5.5</td>\n",
       "    </tr>\n",
       "    <tr>\n",
       "      <th>model_embed_graph_conv</th>\n",
       "      <td>83.0</td>\n",
       "      <td>676.1</td>\n",
       "      <td>14457.5</td>\n",
       "      <td>676.1</td>\n",
       "      <td>0.403832</td>\n",
       "      <td>0.429385</td>\n",
       "      <td>0.793871</td>\n",
       "      <td>0.364565</td>\n",
       "      <td>5.5</td>\n",
       "    </tr>\n",
       "    <tr>\n",
       "      <th>model_onehot_conv</th>\n",
       "      <td>79.0</td>\n",
       "      <td>239.0</td>\n",
       "      <td>14894.6</td>\n",
       "      <td>239.0</td>\n",
       "      <td>0.418791</td>\n",
       "      <td>0.415809</td>\n",
       "      <td>0.872779</td>\n",
       "      <td>0.394424</td>\n",
       "      <td>5.5</td>\n",
       "    </tr>\n",
       "    <tr>\n",
       "      <th>model_onehot_graph_attention</th>\n",
       "      <td>61.7</td>\n",
       "      <td>185.8</td>\n",
       "      <td>14947.8</td>\n",
       "      <td>185.8</td>\n",
       "      <td>0.446695</td>\n",
       "      <td>0.333025</td>\n",
       "      <td>0.816531</td>\n",
       "      <td>0.360711</td>\n",
       "      <td>5.5</td>\n",
       "    </tr>\n",
       "    <tr>\n",
       "      <th>model_onehot_graph_conv</th>\n",
       "      <td>75.5</td>\n",
       "      <td>533.5</td>\n",
       "      <td>14600.1</td>\n",
       "      <td>533.5</td>\n",
       "      <td>0.382837</td>\n",
       "      <td>0.412501</td>\n",
       "      <td>0.810056</td>\n",
       "      <td>0.367430</td>\n",
       "      <td>5.5</td>\n",
       "    </tr>\n",
       "    <tr>\n",
       "      <th>model_onehot_structure_conv</th>\n",
       "      <td>76.8</td>\n",
       "      <td>742.8</td>\n",
       "      <td>14390.8</td>\n",
       "      <td>742.8</td>\n",
       "      <td>0.387493</td>\n",
       "      <td>0.413476</td>\n",
       "      <td>0.828436</td>\n",
       "      <td>0.364572</td>\n",
       "      <td>5.5</td>\n",
       "    </tr>\n",
       "  </tbody>\n",
       "</table>\n",
       "</div>"
      ],
      "text/plain": [
       "                                tp     fp       tn     fn  precision  \\\n",
       "model                                                                  \n",
       "model_embed                   79.7  732.0  14401.6  732.0   0.186594   \n",
       "model_embed_bert              83.4  610.5  14523.1  610.5   0.227503   \n",
       "model_embed_bert_conv         72.4  584.1  14549.5  584.1   0.341832   \n",
       "model_embed_conv              84.7  554.1  14579.5  554.1   0.392422   \n",
       "model_embed_graph_attention   79.3  547.0  14586.6  547.0   0.446158   \n",
       "model_embed_graph_conv        83.0  676.1  14457.5  676.1   0.403832   \n",
       "model_onehot_conv             79.0  239.0  14894.6  239.0   0.418791   \n",
       "model_onehot_graph_attention  61.7  185.8  14947.8  185.8   0.446695   \n",
       "model_onehot_graph_conv       75.5  533.5  14600.1  533.5   0.382837   \n",
       "model_onehot_structure_conv   76.8  742.8  14390.8  742.8   0.387493   \n",
       "\n",
       "                                recall       auc       prc  fold  \n",
       "model                                                             \n",
       "model_embed                   0.426841  0.787234  0.266450   5.5  \n",
       "model_embed_bert              0.438501  0.789070  0.318238   5.5  \n",
       "model_embed_bert_conv         0.401564  0.833671  0.305911   5.5  \n",
       "model_embed_conv              0.455728  0.851119  0.368571   5.5  \n",
       "model_embed_graph_attention   0.416394  0.793615  0.366206   5.5  \n",
       "model_embed_graph_conv        0.429385  0.793871  0.364565   5.5  \n",
       "model_onehot_conv             0.415809  0.872779  0.394424   5.5  \n",
       "model_onehot_graph_attention  0.333025  0.816531  0.360711   5.5  \n",
       "model_onehot_graph_conv       0.412501  0.810056  0.367430   5.5  \n",
       "model_onehot_structure_conv   0.413476  0.828436  0.364572   5.5  "
      ]
     },
     "execution_count": 12,
     "metadata": {},
     "output_type": "execute_result"
    }
   ],
   "source": [
    "result.groupby(['model']).mean()"
   ]
  },
  {
   "cell_type": "code",
   "execution_count": 21,
   "id": "7074a098-d86d-4656-a834-1029aba44dc9",
   "metadata": {},
   "outputs": [],
   "source": [
    "import shap"
   ]
  },
  {
   "cell_type": "code",
   "execution_count": 23,
   "id": "a059fa14-841a-4b06-8fa7-b48fb3494d95",
   "metadata": {},
   "outputs": [],
   "source": [
    "from keras.models import load_model\n",
    "\n",
    "# Load the model\n",
    "model_test = load_model('output/model_onehot_conv_1/')\n"
   ]
  },
  {
   "cell_type": "code",
   "execution_count": null,
   "id": "e925adf0-9e10-488b-bd2b-91842b81c852",
   "metadata": {},
   "outputs": [],
   "source": [
    "# select backgroud for shap\n",
    "background = x_train[np.random.choice(x_train.shape[0], 1000, replace=False)]\n",
    "# DeepExplainer to explain predictions of the model\n",
    "explainer = shap.DeepExplainer(model, background)\n",
    "# compute shap values\n",
    "shap_values = explainer.shap_values(x_test_each_class)"
   ]
  },
  {
   "cell_type": "code",
   "execution_count": 24,
   "id": "09c4322e-d965-4896-8c5d-bcd05134f28c",
   "metadata": {},
   "outputs": [
    {
     "data": {
      "text/plain": [
       "<keras.engine.sequential.Sequential at 0x7fe5067bfe50>"
      ]
     },
     "execution_count": 24,
     "metadata": {},
     "output_type": "execute_result"
    }
   ],
   "source": [
    "model_test"
   ]
  },
  {
   "cell_type": "code",
   "execution_count": 29,
   "id": "039cf9e5-ae76-47de-b201-0400f2a6e6c4",
   "metadata": {},
   "outputs": [],
   "source": [
    "iterator = iter(valid_gen)\n",
    "X_temp, y_temp = next(iterator)"
   ]
  },
  {
   "cell_type": "code",
   "execution_count": null,
   "id": "92f1e9cc-a811-43bf-a8f6-4ba3d0c1527b",
   "metadata": {},
   "outputs": [],
   "source": [
    "# select a set of background examples to take an expectation over\n",
    "background = np.zeros((1, 600, 4))\n",
    "# explain predictions of the model on three images\n",
    "e = shap.DeepExplainer(model_test, background)\n",
    "# ...or pass tensors directly\n",
    "# e = shap.DeepExplainer((model.layers[0].input, model.layers[-1].output), background)\n",
    "shap_values = e.shap_values(X_temp[0])"
   ]
  },
  {
   "cell_type": "code",
   "execution_count": null,
   "id": "f3af56d1-d33a-4b94-b250-0edc6f3de66a",
   "metadata": {},
   "outputs": [],
   "source": [
    "shap_values[0][0]"
   ]
  },
  {
   "cell_type": "code",
   "execution_count": null,
   "id": "641995e9-722b-4f6f-aabe-bb9fe89a5648",
   "metadata": {},
   "outputs": [],
   "source": [
    "plt.hist(shap_values.flatten())\n",
    "plt.show()"
   ]
  },
  {
   "cell_type": "code",
   "execution_count": null,
   "id": "692f7561-6aca-44bb-b954-0474281fe032",
   "metadata": {},
   "outputs": [],
   "source": [
    "threshold = 0.02\n",
    "# Extract short motifs based on the thresholded SHAP values\n",
    "motifs = []\n",
    "for i in range(shap_values.shape[1]):\n",
    "    indices = np.where(np.abs(shap_values[:, i]) > threshold)[0]\n",
    "    if len(indices) > 0:\n",
    "        motifs.append((i, indices))\n",
    "\n",
    "# Print the extracted motifs\n",
    "print(motifs)"
   ]
  },
  {
   "cell_type": "code",
   "execution_count": 75,
   "id": "54f3a5a7-76ff-409d-bd79-d8bfc435790c",
   "metadata": {},
   "outputs": [
    {
     "data": {
      "image/png": "[encoded data removed]",
      "text/plain": [
       "<Figure size 600x500 with 3 Axes>"
      ]
     },
     "metadata": {},
     "output_type": "display_data"
    }
   ],
   "source": [
    "shap.plot.te(shap_values, -X_temp[0][0])"
   ]
  },
  {
   "cell_type": "code",
   "execution_count": 62,
   "id": "ad489af0-9b6a-4ebf-97cf-225ae3702d8e",
   "metadata": {},
   "outputs": [
    {
     "data": {
      "text/plain": [
       "(64, 600, 4)"
      ]
     },
     "execution_count": 62,
     "metadata": {},
     "output_type": "execute_result"
    }
   ],
   "source": [
    "shap_values[0].shape"
   ]
  },
  {
   "cell_type": "code",
   "execution_count": 73,
   "id": "d4bc2c20-89b3-4464-8354-5d55e900acd7",
   "metadata": {},
   "outputs": [
    {
     "data": {
      "text/plain": [
       "array([[-0.00460897,  0.        ,  0.        ,  0.        ],\n",
       "       [ 0.        ,  0.        ,  0.        , -0.00592468],\n",
       "       [ 0.        ,  0.        ,  0.        ,  0.0003384 ],\n",
       "       ...,\n",
       "       [ 0.        ,  0.        ,  0.        ,  0.        ],\n",
       "       [ 0.        ,  0.        ,  0.        ,  0.        ],\n",
       "       [ 0.        ,  0.        ,  0.        ,  0.        ]])"
      ]
     },
     "execution_count": 73,
     "metadata": {},
     "output_type": "execute_result"
    }
   ],
   "source": [
    "shap_values[0][0]"
   ]
  },
  {
   "cell_type": "code",
   "execution_count": 74,
   "id": "c5cffa8d-5a5c-478f-b2a8-236fffc01002",
   "metadata": {},
   "outputs": [
    {
     "name": "stderr",
     "output_type": "stream",
     "text": [
      "WARNING:matplotlib.image:Clipping input data to the valid range for imshow with RGB data ([0..1] for floats or [0..255] for integers).\n"
     ]
    },
    {
     "data": {
      "text/plain": [
       "<matplotlib.image.AxesImage at 0x7fdc99875cf0>"
      ]
     },
     "execution_count": 74,
     "metadata": {},
     "output_type": "execute_result"
    },
    {
     "data": {
      "image/png": "[encoded data removed]",
      "text/plain": [
       "<Figure size 640x480 with 1 Axes>"
      ]
     },
     "metadata": {},
     "output_type": "display_data"
    }
   ],
   "source": [
    "import matplotlib.pyplot as plt\n",
    "plt.imshow(shap_values[0]*1000)"
   ]
  }
 ],
 "metadata": {
  "kernelspec": {
   "display_name": "RNA",
   "language": "python",
   "name": "rna"
  },
  "language_info": {
   "codemirror_mode": {
    "name": "ipython",
    "version": 3
   },
   "file_extension": ".py",
   "mimetype": "text/x-python",
   "name": "python",
   "nbconvert_exporter": "python",
   "pygments_lexer": "ipython3",
   "version": "3.10.6"
  }
 },
 "nbformat": 4,
 "nbformat_minor": 5
}
